{
 "cells": [
  {
   "cell_type": "code",
   "execution_count": 1,
   "id": "c98fbc1b",
   "metadata": {},
   "outputs": [],
   "source": [
    "import os\n",
    "import openai"
   ]
  },
  {
   "cell_type": "code",
   "execution_count": 2,
   "id": "9eae2d3c",
   "metadata": {},
   "outputs": [],
   "source": [
    "openai.api_key = os.getenv('OPENAI_API_KEY')"
   ]
  },
  {
   "cell_type": "code",
   "execution_count": 4,
   "id": "fb21ea9c",
   "metadata": {},
   "outputs": [],
   "source": [
    "# Python\n",
    "# Function (OOP)\n",
    "# \"\"\" \"\"\""
   ]
  },
  {
   "cell_type": "code",
   "execution_count": 5,
   "id": "3e627de9",
   "metadata": {},
   "outputs": [],
   "source": [
    "def hello(name):\n",
    "    print(f\"Hello {name}\")"
   ]
  },
  {
   "cell_type": "code",
   "execution_count": 6,
   "id": "24130bbe",
   "metadata": {},
   "outputs": [
    {
     "name": "stdout",
     "output_type": "stream",
     "text": [
      "Hello Danial\n"
     ]
    }
   ],
   "source": [
    "hello('Danial')"
   ]
  },
  {
   "cell_type": "code",
   "execution_count": 7,
   "id": "ad331e59",
   "metadata": {},
   "outputs": [],
   "source": [
    "def docstring_prompt(code):\n",
    "    prompt = f\"{code}\\n # A high quality Python docstring of the above Python function:\\n \\\"\\\"\\\"\"\n",
    "    return prompt"
   ]
  },
  {
   "cell_type": "code",
   "execution_count": 8,
   "id": "7f4d7e5d",
   "metadata": {},
   "outputs": [],
   "source": [
    "import inspect"
   ]
  },
  {
   "cell_type": "code",
   "execution_count": 10,
   "id": "90061547",
   "metadata": {},
   "outputs": [
    {
     "name": "stdout",
     "output_type": "stream",
     "text": [
      "def hello(name):\n",
      "    print(f\"Hello {name}\")\n",
      "\n"
     ]
    }
   ],
   "source": [
    "print(inspect.getsource(hello))"
   ]
  },
  {
   "cell_type": "code",
   "execution_count": 11,
   "id": "31428897",
   "metadata": {},
   "outputs": [
    {
     "name": "stdout",
     "output_type": "stream",
     "text": [
      "def hello(name):\n",
      "    print(f\"Hello {name}\")\n",
      "\n",
      " # A high quality Python docstring of the above Python function:\n",
      " \"\"\"\n"
     ]
    }
   ],
   "source": [
    "print(docstring_prompt(inspect.getsource(hello)))"
   ]
  },
  {
   "cell_type": "code",
   "execution_count": 12,
   "id": "b98e1b02",
   "metadata": {},
   "outputs": [],
   "source": [
    "response = openai.Completion.create(\n",
    "    model = 'text-davinci-003',\n",
    "    prompt = docstring_prompt(inspect.getsource(hello)),\n",
    "    temperature = 0,\n",
    "    max_tokens = 100,\n",
    "    top_p = 1.0,\n",
    "    stop = [\"\\\"\\\"\\\"\"]\n",
    ")"
   ]
  },
  {
   "cell_type": "code",
   "execution_count": 13,
   "id": "c1fe6359",
   "metadata": {},
   "outputs": [
    {
     "name": "stdout",
     "output_type": "stream",
     "text": [
      "\n",
      "This function prints a greeting to the given name.\n",
      "\n",
      "Parameters:\n",
      "name (str): The name of the person to greet.\n",
      "\n",
      "Returns:\n",
      "None\n",
      " \n"
     ]
    }
   ],
   "source": [
    "print(response['choices'][0]['text'])"
   ]
  },
  {
   "cell_type": "code",
   "execution_count": 14,
   "id": "c17b54fd",
   "metadata": {},
   "outputs": [],
   "source": [
    "# first line of the function (def myFunc():)\n",
    "# \"\"\"\n",
    "# DOCSTRING (COMPLETION API)\n",
    "# \"\"\"\n",
    "# rest of the function"
   ]
  },
  {
   "cell_type": "code",
   "execution_count": 20,
   "id": "62e82dff",
   "metadata": {},
   "outputs": [],
   "source": [
    "def merge_docstring_and_function(original_function, docstring):\n",
    "    function_string = inspect.getsource(original_function)\n",
    "    split = function_string.split('\\n')\n",
    "    first_part, second_part = split[0], split[1:]\n",
    "    \n",
    "    merged_function = first_part+'\\n    \"\"\"'+docstring+'\\n    \"\"\"\\n'+'\\n'.join(second_part)\n",
    "    \n",
    "    return merged_function"
   ]
  },
  {
   "cell_type": "code",
   "execution_count": 22,
   "id": "c0994ad8",
   "metadata": {},
   "outputs": [
    {
     "name": "stdout",
     "output_type": "stream",
     "text": [
      "def hello(name):\n",
      "    \"\"\"\n",
      "This function prints a greeting to the given name.\n",
      "\n",
      "Parameters:\n",
      "name (str): The name of the person to greet.\n",
      "\n",
      "Returns:\n",
      "None\n",
      " \n",
      "    \"\"\"\n",
      "    print(f\"Hello {name}\")\n",
      "\n"
     ]
    }
   ],
   "source": [
    "print(merge_docstring_and_function(hello, response['choices'][0]['text']))"
   ]
  },
  {
   "cell_type": "code",
   "execution_count": 23,
   "id": "78766f12",
   "metadata": {},
   "outputs": [],
   "source": [
    "def create_new_blog(title, content, cover_image):\n",
    "    cover_image = Path(cover_image)\n",
    "    \n",
    "    files = len(list(PATH_TO_CONTENT.glob(\"*.html\")))\n",
    "    new_title = f\"{files+1}.html\"\n",
    "    path_to_new_content = PATH_TO_CONTENT/new_title\n",
    "    \n",
    "    shutil.copy(cover_image, PATH_TO_CONTENT)\n",
    "    \n",
    "    if not os.path.exists(path_to_new_content):\n",
    "        # write a new HTML file\n",
    "        with open(path_to_new_content, \"w\") as f:\n",
    "            f.write(\"<!DOCTYPE html>\\n\")\n",
    "            f.write(\"<html>\\n\")\n",
    "            f.write(\"<head>\\n\")\n",
    "            f.write(f\"<title> {title} </title>\\n\")\n",
    "            f.write(\"</head>\\n\")\n",
    "            \n",
    "            f.write(\"<body>\\n\")\n",
    "            f.write(f\"<img src='{cover_image.name}' alt='Cover Image'> <br />\\n\")\n",
    "            f.write(f\"<h1> {title} </h1>\")\n",
    "            # OpenAI --> Completion GPT --> \"hello\\nblog post\\n\"\n",
    "            f.write(content.replace(\"\\n\", \"<br />\\n\"))\n",
    "            f.write(\"</body>\\n\")\n",
    "            f.write(\"</html>\\n\")\n",
    "            print(\"Blog Created\")\n",
    "            return path_to_new_content\n",
    "    else:\n",
    "        raise FileExistError(\"File already exist, please check your file name again! Aborting!\")"
   ]
  },
  {
   "cell_type": "code",
   "execution_count": 26,
   "id": "2d8ccf03",
   "metadata": {},
   "outputs": [],
   "source": [
    "def create_docstring(function):\n",
    "    response = openai.Completion.create(\n",
    "        model = 'text-davinci-003',\n",
    "        prompt = docstring_prompt(inspect.getsource(function)),\n",
    "        temperature = 0,\n",
    "        max_tokens = 256,\n",
    "        top_p = 1.0,\n",
    "        stop = [\"\\\"\\\"\\\"\"]\n",
    "    )\n",
    "    print(merge_docstring_and_function(function, response['choices'][0]['text']))"
   ]
  },
  {
   "cell_type": "code",
   "execution_count": 27,
   "id": "90f3453e",
   "metadata": {},
   "outputs": [
    {
     "name": "stdout",
     "output_type": "stream",
     "text": [
      "def create_new_blog(title, content, cover_image):\n",
      "    \"\"\"\n",
      " Creates a new blog post with the given title, content, and cover image.\n",
      " \n",
      " Parameters:\n",
      " title (str): The title of the blog post.\n",
      " content (str): The content of the blog post.\n",
      " cover_image (str): The path to the cover image of the blog post.\n",
      " \n",
      " Returns:\n",
      " path_to_new_content (str): The path to the newly created blog post.\n",
      " \n",
      " Raises:\n",
      " FileExistError: If the file already exists.\n",
      " \n",
      " \n",
      "    \"\"\"\n",
      "    cover_image = Path(cover_image)\n",
      "    \n",
      "    files = len(list(PATH_TO_CONTENT.glob(\"*.html\")))\n",
      "    new_title = f\"{files+1}.html\"\n",
      "    path_to_new_content = PATH_TO_CONTENT/new_title\n",
      "    \n",
      "    shutil.copy(cover_image, PATH_TO_CONTENT)\n",
      "    \n",
      "    if not os.path.exists(path_to_new_content):\n",
      "        # write a new HTML file\n",
      "        with open(path_to_new_content, \"w\") as f:\n",
      "            f.write(\"<!DOCTYPE html>\\n\")\n",
      "            f.write(\"<html>\\n\")\n",
      "            f.write(\"<head>\\n\")\n",
      "            f.write(f\"<title> {title} </title>\\n\")\n",
      "            f.write(\"</head>\\n\")\n",
      "            \n",
      "            f.write(\"<body>\\n\")\n",
      "            f.write(f\"<img src='{cover_image.name}' alt='Cover Image'> <br />\\n\")\n",
      "            f.write(f\"<h1> {title} </h1>\")\n",
      "            # OpenAI --> Completion GPT --> \"hello\\nblog post\\n\"\n",
      "            f.write(content.replace(\"\\n\", \"<br />\\n\"))\n",
      "            f.write(\"</body>\\n\")\n",
      "            f.write(\"</html>\\n\")\n",
      "            print(\"Blog Created\")\n",
      "            return path_to_new_content\n",
      "    else:\n",
      "        raise FileExistError(\"File already exist, please check your file name again! Aborting!\")\n",
      "\n"
     ]
    }
   ],
   "source": [
    "create_docstring(create_new_blog)"
   ]
  },
  {
   "cell_type": "code",
   "execution_count": null,
   "id": "5b880030",
   "metadata": {},
   "outputs": [],
   "source": []
  }
 ],
 "metadata": {
  "kernelspec": {
   "display_name": "Python 3 (ipykernel)",
   "language": "python",
   "name": "python3"
  },
  "language_info": {
   "codemirror_mode": {
    "name": "ipython",
    "version": 3
   },
   "file_extension": ".py",
   "mimetype": "text/x-python",
   "name": "python",
   "nbconvert_exporter": "python",
   "pygments_lexer": "ipython3",
   "version": "3.11.2"
  }
 },
 "nbformat": 4,
 "nbformat_minor": 5
}
