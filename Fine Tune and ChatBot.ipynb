{
 "cells": [
  {
   "cell_type": "code",
   "execution_count": 1,
   "id": "1f6fce90",
   "metadata": {},
   "outputs": [],
   "source": [
    "import openai"
   ]
  },
  {
   "cell_type": "code",
   "execution_count": 2,
   "id": "ec1c1c78",
   "metadata": {},
   "outputs": [
    {
     "name": "stdout",
     "output_type": "stream",
     "text": [
      "Requirement already satisfied: pandas in c:\\python311\\lib\\site-packages (2.0.0)\n",
      "Requirement already satisfied: python-dateutil>=2.8.2 in c:\\users\\noraiman danial\\appdata\\roaming\\python\\python311\\site-packages (from pandas) (2.8.2)\n",
      "Requirement already satisfied: pytz>=2020.1 in c:\\python311\\lib\\site-packages (from pandas) (2023.3)\n",
      "Requirement already satisfied: tzdata>=2022.1 in c:\\python311\\lib\\site-packages (from pandas) (2023.3)\n",
      "Requirement already satisfied: numpy>=1.21.0 in c:\\python311\\lib\\site-packages (from pandas) (1.24.2)\n",
      "Requirement already satisfied: six>=1.5 in c:\\users\\noraiman danial\\appdata\\roaming\\python\\python311\\site-packages (from python-dateutil>=2.8.2->pandas) (1.16.0)\n"
     ]
    }
   ],
   "source": [
    "!pip install pandas\n",
    "import pandas as pd\n",
    "qa_df = pd.read_csv(\"C:\\\\Users\\\\Noraiman Danial\\\\OneDrive\\\\Documents\\\\UNIMALAYA\\\\SEMESTER 2\\\\OPENAI\\\\UDEMY COURSE\\\\UPDATED-MARCH-2023-Notebooks-and-Files\\\\08-Chat-Bot-with-Fine-Tuning\\\\python_qa.csv\")"
   ]
  },
  {
   "cell_type": "code",
   "execution_count": 3,
   "id": "6d37b576",
   "metadata": {},
   "outputs": [],
   "source": [
    "questions, answers = qa_df['Body'], qa_df['Answer']"
   ]
  },
  {
   "cell_type": "code",
   "execution_count": 4,
   "id": "3c611a2c",
   "metadata": {},
   "outputs": [
    {
     "data": {
      "text/plain": [
       "0       I started writing up a summary of my experienc...\n",
       "1       I created a simple library to create a passwor...\n",
       "2       Yes, because of the Global Interpreter Lock (G...\n",
       "3       Python threads are good for concurrent I/O pro...\n",
       "4       I loved Dive Into Python, especially if you're...\n",
       "                              ...                        \n",
       "4424    setup\\ncreate 2 time series\\n\\nfrom StringIO i...\n",
       "4425    TLDR: It's impossible to make custom classes r...\n",
       "4426    You are not indexing. You are yielding a list;...\n",
       "4427    You can create a look up data frame from the d...\n",
       "4428    Use itertools.product within a list comprehens...\n",
       "Name: Answer, Length: 4429, dtype: object"
      ]
     },
     "execution_count": 4,
     "metadata": {},
     "output_type": "execute_result"
    }
   ],
   "source": [
    "answers"
   ]
  },
  {
   "cell_type": "code",
   "execution_count": 5,
   "id": "b79a2d9c",
   "metadata": {},
   "outputs": [],
   "source": [
    "qa_openai_format = [{\"prompt\": q, \"completion\": a} for q, a in zip(questions, answers)]"
   ]
  },
  {
   "cell_type": "code",
   "execution_count": 6,
   "id": "6b2fab91",
   "metadata": {},
   "outputs": [
    {
     "data": {
      "text/plain": [
       "{'prompt': 'I am taking a class that requires Python. We will review the language in class next week, and I am a quick study on new languages, but I was wondering if there are any really great Python books I can grab while I am struggling through the basics of setting up my IDE, server environment and all those other \"gotchas\" that come with a new programming language. Suggestions?\\n',\n",
       " 'completion': \"I loved Dive Into Python, especially if you're a quick study.  The beginning basics are all covered (and may move slowly for you), but the latter few chapters are great learning tools.\\n\\nPlus, Pilgrim is a pretty good writer.\\n\"}"
      ]
     },
     "execution_count": 6,
     "metadata": {},
     "output_type": "execute_result"
    }
   ],
   "source": [
    "qa_openai_format[4]"
   ]
  },
  {
   "cell_type": "code",
   "execution_count": 7,
   "id": "3c9e954c",
   "metadata": {},
   "outputs": [],
   "source": [
    "response = openai.Completion.create(\n",
    "    engine = 'text-babbage-001',\n",
    "    prompt = qa_openai_format[4]['prompt'],\n",
    "    max_tokens = 250,\n",
    "    temperature = 0\n",
    ")"
   ]
  },
  {
   "cell_type": "code",
   "execution_count": 8,
   "id": "bd522456",
   "metadata": {},
   "outputs": [
    {
     "name": "stdout",
     "output_type": "stream",
     "text": [
      "\n",
      "There are a few great Python books that you could consider while you are learning Python. One book that is particularly helpful is \"Python for Data Science\" by Geoffrey Hinton. This book is packed with information on data science and Python, and it is a great resource for anyone who wants to learn Python for data science purposes. Another great book to consider is \"Python for Data Science Mastery\" by Michael Nielsen. This book is designed to help you learn more about data science and Python, and it is a great resource for anyone who wants to learn more about Python for data science purposes.\n"
     ]
    }
   ],
   "source": [
    "print(response['choices'][0]['text'])"
   ]
  },
  {
   "cell_type": "code",
   "execution_count": 9,
   "id": "4f473d58",
   "metadata": {},
   "outputs": [
    {
     "name": "stdout",
     "output_type": "stream",
     "text": [
      "Requirement already satisfied: tiktoken in c:\\python311\\lib\\site-packages (0.3.3)\n",
      "Requirement already satisfied: regex>=2022.1.18 in c:\\python311\\lib\\site-packages (from tiktoken) (2023.3.23)\n",
      "Requirement already satisfied: requests>=2.26.0 in c:\\python311\\lib\\site-packages (from tiktoken) (2.28.2)\n",
      "Requirement already satisfied: charset-normalizer<4,>=2 in c:\\python311\\lib\\site-packages (from requests>=2.26.0->tiktoken) (3.1.0)\n",
      "Requirement already satisfied: idna<4,>=2.5 in c:\\python311\\lib\\site-packages (from requests>=2.26.0->tiktoken) (3.4)\n",
      "Requirement already satisfied: urllib3<1.27,>=1.21.1 in c:\\python311\\lib\\site-packages (from requests>=2.26.0->tiktoken) (1.26.15)\n",
      "Requirement already satisfied: certifi>=2017.4.17 in c:\\python311\\lib\\site-packages (from requests>=2.26.0->tiktoken) (2022.12.7)\n"
     ]
    }
   ],
   "source": [
    "!pip install tiktoken\n",
    "import tiktoken"
   ]
  },
  {
   "cell_type": "code",
   "execution_count": 10,
   "id": "c63fc4bf",
   "metadata": {},
   "outputs": [],
   "source": [
    "def num_tokens_from_string(string, encoding_name):\n",
    "    encoding = tiktoken.get_encoding(encoding_name)\n",
    "    num_tokens = len(encoding.encode(string))\n",
    "    \n",
    "    return num_tokens"
   ]
  },
  {
   "cell_type": "code",
   "execution_count": 11,
   "id": "2e47f8c1",
   "metadata": {},
   "outputs": [
    {
     "data": {
      "text/plain": [
       "4429"
      ]
     },
     "execution_count": 11,
     "metadata": {},
     "output_type": "execute_result"
    }
   ],
   "source": [
    "len(qa_df)"
   ]
  },
  {
   "cell_type": "code",
   "execution_count": 12,
   "id": "78693c4c",
   "metadata": {},
   "outputs": [],
   "source": [
    "dataset_size = 500 # 4429"
   ]
  },
  {
   "cell_type": "code",
   "execution_count": 13,
   "id": "571c000e",
   "metadata": {},
   "outputs": [],
   "source": [
    "import json\n",
    "with open(\"qa_df-training-data.json\", \"w\") as f:\n",
    "    for entry in qa_openai_format[:dataset_size]:\n",
    "        f.write(json.dumps(entry))\n",
    "        f.write('\\n')"
   ]
  },
  {
   "cell_type": "code",
   "execution_count": 14,
   "id": "ab707845",
   "metadata": {},
   "outputs": [
    {
     "ename": "NameError",
     "evalue": "name 'element' is not defined",
     "output_type": "error",
     "traceback": [
      "\u001b[1;31m---------------------------------------------------------------------------\u001b[0m",
      "\u001b[1;31mNameError\u001b[0m                                 Traceback (most recent call last)",
      "Cell \u001b[1;32mIn[14], line 4\u001b[0m\n\u001b[0;32m      1\u001b[0m token_counter \u001b[38;5;241m=\u001b[39m \u001b[38;5;241m0\u001b[39m\n\u001b[0;32m      3\u001b[0m \u001b[38;5;28;01mfor\u001b[39;00m prompt_completion \u001b[38;5;129;01min\u001b[39;00m qa_openai_format:\n\u001b[1;32m----> 4\u001b[0m     \u001b[38;5;28;01mfor\u001b[39;00m prompt,completion \u001b[38;5;129;01min\u001b[39;00m \u001b[43melement\u001b[49m\u001b[38;5;241m.\u001b[39mitems():\n\u001b[0;32m      5\u001b[0m         token_counter \u001b[38;5;241m+\u001b[39m\u001b[38;5;241m=\u001b[39m num_tokens_from_string(prompt, \u001b[38;5;124m'\u001b[39m\u001b[38;5;124mgpt2\u001b[39m\u001b[38;5;124m'\u001b[39m)\n\u001b[0;32m      6\u001b[0m         token_counter \u001b[38;5;241m+\u001b[39m\u001b[38;5;241m=\u001b[39m num_tokens_from_string(completion, \u001b[38;5;124m'\u001b[39m\u001b[38;5;124mgpt2\u001b[39m\u001b[38;5;124m'\u001b[39m)\n",
      "\u001b[1;31mNameError\u001b[0m: name 'element' is not defined"
     ]
    }
   ],
   "source": [
    "token_counter = 0\n",
    "\n",
    "for prompt_completion in qa_openai_format:\n",
    "    for prompt,completion in element.items():\n",
    "        token_counter += num_tokens_from_string(prompt, 'gpt2')\n",
    "        token_counter += num_tokens_from_string(completion, 'gpt2')"
   ]
  },
  {
   "cell_type": "code",
   "execution_count": null,
   "id": "75afc38d",
   "metadata": {},
   "outputs": [],
   "source": [
    "print(token_counter) # $0.0006 / 1k tokens (training) * 4 epochs\n",
    "0.0006 * token_counter / 1000"
   ]
  },
  {
   "cell_type": "code",
   "execution_count": null,
   "id": "37016e4c",
   "metadata": {},
   "outputs": [],
   "source": [
    "# !pip install --upgrade openai\n",
    "# !openai api fine_tunes.create -t \"C:\\Users\\Noraiman Danial\\OneDrive\\Documents\\UNIMALAYA\\SEMESTER 2\\OPENAI\\UDEMY COURSE\\qa_df-training-data.json\" -m babbage"
   ]
  },
  {
   "cell_type": "code",
   "execution_count": null,
   "id": "79d53a52",
   "metadata": {},
   "outputs": [],
   "source": [
    "# !openai api fine_tunes.follow -i ft-7xByPZWYn45Ia1ZdSshrNRoc"
   ]
  },
  {
   "cell_type": "code",
   "execution_count": 15,
   "id": "4caf0541",
   "metadata": {},
   "outputs": [],
   "source": [
    "fine_tuned_model = \"babbage:ft-personal-2023-04-05-08-54-18\""
   ]
  },
  {
   "cell_type": "code",
   "execution_count": 25,
   "id": "38c786db",
   "metadata": {},
   "outputs": [],
   "source": [
    "response_new = openai.Completion.create(\n",
    "    model = fine_tuned_model,\n",
    "    prompt = \"What are good python books?\",\n",
    "    max_tokens = 128\n",
    ")"
   ]
  },
  {
   "cell_type": "code",
   "execution_count": 26,
   "id": "266f379c",
   "metadata": {},
   "outputs": [
    {
     "name": "stdout",
     "output_type": "stream",
     "text": [
      "  As you may have guessed, this list is by its very nature incomplete. For a good pick, you may consider reading:\n",
      "\n",
      "\n",
      "Quick Python by McGraw-Hill\n",
      "\n",
      "Pythonsó by Brian Goetz\n",
      "\n",
      "The Practical Python Design by Iain Cameron\n",
      "\n",
      "\n",
      "  As you may have guessed, this list is by its very nature incomplete. For a good pick, you may consider reading:\n",
      "\n",
      "\n",
      "Quick Python\n",
      "\n",
      "Pythonsó\n",
      "\n",
      "The Practical Python Design\n",
      "\n",
      "\n",
      "Personally, I'm a huge fan of The Practical Python Design. It goes into more detail about different design patterns, as\n"
     ]
    }
   ],
   "source": [
    "print(response_new['choices'][0]['text'])"
   ]
  },
  {
   "cell_type": "code",
   "execution_count": null,
   "id": "bc431854",
   "metadata": {},
   "outputs": [],
   "source": []
  }
 ],
 "metadata": {
  "kernelspec": {
   "display_name": "Python 3 (ipykernel)",
   "language": "python",
   "name": "python3"
  },
  "language_info": {
   "codemirror_mode": {
    "name": "ipython",
    "version": 3
   },
   "file_extension": ".py",
   "mimetype": "text/x-python",
   "name": "python",
   "nbconvert_exporter": "python",
   "pygments_lexer": "ipython3",
   "version": "3.11.2"
  }
 },
 "nbformat": 4,
 "nbformat_minor": 5
}
