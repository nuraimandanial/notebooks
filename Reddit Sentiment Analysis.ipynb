{
 "cells": [
  {
   "cell_type": "code",
   "execution_count": 1,
   "id": "5f2e0c3c",
   "metadata": {},
   "outputs": [],
   "source": [
    "import openai"
   ]
  },
  {
   "cell_type": "code",
   "execution_count": 3,
   "id": "ec613549",
   "metadata": {},
   "outputs": [],
   "source": [
    "import praw"
   ]
  },
  {
   "cell_type": "code",
   "execution_count": 4,
   "id": "c5d96b96",
   "metadata": {},
   "outputs": [],
   "source": [
    "reddit = praw.Reddit(client_id = 'qWxOfO8sO1E08gYjMd_c1g',\n",
    "                    client_secret = 'I3j54HiXEzQTJ262giFgaH3V1jI5pg',\n",
    "                    user_agent = \"sentiment_analysis_test\")"
   ]
  },
  {
   "cell_type": "code",
   "execution_count": 9,
   "id": "c63855b0",
   "metadata": {},
   "outputs": [],
   "source": [
    "import os\n",
    "os.environ['REDDIT_CLIENT_ID'] = 'qWxOfO8sO1E08gYjMd_c1g'\n",
    "os.environ['REDDIT_SECRET'] = 'I3j54HiXEzQTJ262giFgaH3V1jI5pg'"
   ]
  },
  {
   "cell_type": "code",
   "execution_count": 7,
   "id": "848b78ad",
   "metadata": {},
   "outputs": [
    {
     "name": "stdout",
     "output_type": "stream",
     "text": [
      "We just hit 100k! Who wants to run r/OpenAI?\n",
      "Revenge.\n",
      "Created an application that generate memes with a single click! Using GPT-4 and BLIP-2\n",
      "\"Verify you are human\" infinite loop\n",
      "Yo, Openai just gave me a 2nd Gpt-4 model. Anyone else? I'm guessing this could be the longer context model, the vision model or just a bug.\n"
     ]
    }
   ],
   "source": [
    "for submission in reddit.subreddit(\"openai\").hot(limit=5):\n",
    "    print(submission.title)"
   ]
  },
  {
   "cell_type": "code",
   "execution_count": 29,
   "id": "e03b7ce6",
   "metadata": {},
   "outputs": [],
   "source": [
    "subreddit_topic = reddit.subreddit(\"stocks\")"
   ]
  },
  {
   "cell_type": "code",
   "execution_count": 30,
   "id": "6d5f8bd1",
   "metadata": {},
   "outputs": [
    {
     "data": {
      "text/plain": [
       "5958"
      ]
     },
     "execution_count": 30,
     "metadata": {},
     "output_type": "execute_result"
    }
   ],
   "source": [
    "subreddit_topic.accounts_active"
   ]
  },
  {
   "cell_type": "code",
   "execution_count": 31,
   "id": "441b24ee",
   "metadata": {},
   "outputs": [
    {
     "name": "stdout",
     "output_type": "stream",
     "text": [
      "Rate My Portfolio - r/Stocks Quarterly Thread March 2023\n",
      "I am 26, so I have several decades until retirement. My goal is to hold the stocks in my portfolio perpetually, though I'm not reserved to make adjustments and sell when a) I see an opportunity to take profits b) my thesis changes. My long term goal is passive income generation, though I don't chase yields. I don't pay much attention to valuation or macro, as I think that since I plan on holding these stocks for decades while buying every month, those don't matter to me much. I invest regularly every month, so I'm okay with buying at a higher valuation at times and lower valuation at other times. In my opinion, buying at the best possible time is more difficult than buying a good company. That said, if I see an undervalued stock I like, I don't hesitate to buy more and when I make my regular contributions, I try weigh towards stocks that might have been beaten down or seem undervalued. My last review in one of these was [Dec 2021](https://www.reddit.com/r/stocks/comments/r6bdjt/rate_my_portfolio_rstocks_quarterly_thread/hn1ot2t/). Since then, I have made some adjustments, mostly by researching new companies and updating what I focus on when doing my analysis. I am pretty comfortable with my current portfolio and can see myself holding any of these companies for decades (that surely won't be the case, but I'm okay with that; not all of these will be good investments, but most of them should, I think).\n",
      "\n",
      "My goal is not doing 50% in a year or buying low and selling high. My goal is to outperform the index modestly, at maybe 2-3% annually, which would compound very nicely over decades. I'm okay with the risk that I underperform at a modest rate. I want to avoid making drastic changes to my portfolio depending on macro environment.\n",
      "\n",
      "I like stocks that are quality companies with:\n",
      "\n",
      "-\tA sustainable business model - high cash flow generation, high ROIC / ROCE, good balance sheet. Bonus points for recurring, diversified revenue, and optionality.\n",
      "-\tBusiness model and products I understand, or at least understand their value. I don't think I'll ever understand ASML's machines, but I understand why it's one of a kind company.\n",
      "-\tA wide moat. Bonus points are for brand value, network effect, IP, barriers to entry / high switching costs, supply chain, etc. I am okay with paying a high multiple for a company that cannot be replicated by throwing money at the problem. Almost every company I own scores very high in this regard in my own checklist.\n",
      "-\tHigh margins. I focus mostly on gross margin, but consider other margin metrics, too.\n",
      "-\tSustainable buybacks and dividend growth.\n",
      "-\tGreat management.\n",
      "\n",
      "Not every company I own scores high in each of these, but together they fit my investment goals very well.\n",
      "\n",
      "I used to have an allocation for growth in my portfolio, but overtime, I have decided to fully target quality companies and compounders with a great track record. I realized that it is never too late to buy into a company once it becomes profitable and sustainable. And if I miss a few 10-baggers because of restraint from unprofitable companies, I'll be okay with that.\n",
      "\n",
      "My current allocation is 96% equity, with the rest being a single commodity holding - a carbon allowance ETF (CARB on BIT)\n",
      "\n",
      "Of the 96% equity, 1/3 (32%) is in diversified ETFs:\n",
      "\n",
      "| **Name**                 | **Target allocation** |\n",
      "|--------------------------|----------------------:|\n",
      "| **MSCI World**           | 24,0%                 |\n",
      "| **MSCI World Small Cap** | 4,0%                  |\n",
      "| **MSCI EM IMI**          | 4,0%                  |\n",
      "\n",
      "The other 2/3s are stocks, structured as following, ordered by my target weight (descending):\n",
      "\n",
      "| **Name**                        | **Ticker** | **Target allocation** |\n",
      "|---------------------------------|:----------:|----------------------:|\n",
      "| **Microsoft**                   | MSFT       | 6,00%                 |\n",
      "| **Apple**                       | AAPL       | 5,50%                 |\n",
      "| **ASML Holding**                | ASML       | 5,50%                 |\n",
      "| **Brookfield Corporation**      | BN         | 4,00%                 |\n",
      "| **Costco**                      | COST       | 4,00%                 |\n",
      "| **MasterCard**                  | MA         | 4,00%                 |\n",
      "| **Novo Nordisk**                | NVO        | 4,00%                 |\n",
      "| **Ulta Beauty**                 | ULTA       | 4,00%                 |\n",
      "| **Visa**                        | V          | 4,00%                 |\n",
      "| **Alphabet**                    | GOOG       | 4,00%                 |\n",
      "| **Johnson and Johnson**         | JNJ        | 3,00%                 |\n",
      "| **Home Depot**                  | HD         | 3,00%                 |\n",
      "| **Lockheed Martin**             | LMT        | 3,00%                 |\n",
      "| **Union Pacific**               | UNP        | 3,00%                 |\n",
      "| **Intuitive Surgical**          | ISRG       | 2,50%                 |\n",
      "| **Adobe**                       | ADBE       | 2,50%                 |\n",
      "| **Brookfield Asset Management** | BAM        | 2,00%                 |\n",
      "\n",
      "Edit: I also have two retirement accounts that are both 100% MSCI World.\n",
      "24 Years old.\n",
      "\n",
      "GOOGL 17% , META 17%, V 15%, MSFT 13%, AAPL 13%, MO 11%, Treasury ETF 4%, C 3%, XLRE 3%, AMZN 2%, GM 1%.\n",
      "\n",
      "This is my taxable portfolio, my ROTH is all in SP500 / Growth mutual funds.\n",
      "\n",
      "My current goals are to build my positions in AMZN and Short-Term US Treasuries to 10% Each. Also, I want to build a position into XLF.\n",
      "r/Stocks Daily Discussion & Technicals Tuesday - Apr 04, 2023\n",
      "Anyone else ticked off when they watch CNBC?   \n",
      "\n",
      "\n",
      "Green Day: \"Stocks up as inflation fears ease\"  \n",
      "\n",
      "\n",
      "Red Day: \"Stocks down as inflation fears rise\"\n",
      "Small caps plunging\n",
      "Apple’s “Wearables & Accessories” revenue ($41.24B) is significantly greater than Nvidia’s annual revenue (26.91B).\n",
      "Comparing revenue is pointless.\n",
      "\n",
      "Walmart has 611bn revenue vs apple’s 394bn.\n",
      "\n",
      "Walmart is 396bn mcap vs apples 2620bn.\n",
      "\n",
      "Everyone will now jump in about margins and profit. Which is the point im trying to make.\n",
      "\n",
      "People might also talk about profits being in apple’s favor \n",
      "\n",
      "Then i should bring up exxon mobil that had profits of 77bn off 398bn revenue.\n",
      "\n",
      "Trading at only 468bn market cap\n",
      "\n",
      "People might now talk about different industry, growth potential, cyclical businesses etc.\n",
      "\n",
      "Now people should understand comparing nvda to apple wearables by looking at revenue is completely useless\n",
      "[deleted]\n",
      "‘I am truly sorry’: Credit Suisse chair pleads with angry shareholders at annual meeting\n",
      "The fact his last name is “Lehmann” is just…fitting.\n",
      "We’re *sorry*.  We really mean it\n",
      "Nvidia ($NVDA) is the best risk-reward short over the next few months\n",
      "$NVDS is the reverse NVDA etf for anyone not wanting to eat shit with puts.\n",
      "Smart play. Nvidia is WAY overvalued and is due for a major correction. Good luck with the puts 👍🏼\n"
     ]
    }
   ],
   "source": [
    "for post in subreddit_topic.hot(limit=5):\n",
    "    print(post.title)\n",
    "    submission = reddit.submission(post.id)\n",
    "    # print top 2 comments per title submission\n",
    "    counter = 0\n",
    "    for comment in submission.comments:\n",
    "        print(comment.body)\n",
    "        counter += 1\n",
    "        if counter == 2:\n",
    "            break"
   ]
  },
  {
   "cell_type": "code",
   "execution_count": 47,
   "id": "1c6526aa",
   "metadata": {},
   "outputs": [],
   "source": [
    "def get_titles_and_comments(subreddit=\"stocks\", limit=6, num_comments=3, skip_first=2):\n",
    "    subreddit = reddit.subreddit(subreddit)\n",
    "    title_and_comments = {}\n",
    "    \n",
    "    for counter, post in enumerate(subreddit.hot(limit=limit)):\n",
    "        if counter < skip_first:\n",
    "            continue\n",
    "            \n",
    "        counter += (1-skip_first)\n",
    "        \n",
    "        title_and_comments[counter] = \"\"\n",
    "        # PRAW\n",
    "        submission = reddit.submission(post.id)\n",
    "        title = post.title\n",
    "        \n",
    "        title_and_comments[counter] += \"Title: \"+title+\"\\n\\n\"\n",
    "        title_and_comments[counter] += \"Comments: \\n\\n\"\n",
    "        # {0: \"Title: Post Title \\n\\nComments: \\n\\n\"}\n",
    "        \n",
    "        comment_counter = 0\n",
    "        for comment in submission.comments:\n",
    "            if not comment.body == \"[deleted]\":\n",
    "                title_and_comments[counter] += comment.body+\"\\n\"\n",
    "                comment_counter += 1\n",
    "            if comment_counter == num_comments:\n",
    "                break\n",
    "    \n",
    "    return title_and_comments"
   ]
  },
  {
   "cell_type": "code",
   "execution_count": 48,
   "id": "a76dccaa",
   "metadata": {},
   "outputs": [],
   "source": [
    "title_and_comments = get_titles_and_comments()"
   ]
  },
  {
   "cell_type": "code",
   "execution_count": 49,
   "id": "7b8eaccf",
   "metadata": {},
   "outputs": [
    {
     "data": {
      "text/plain": [
       "{1: 'Title: Apple’s “Wearables & Accessories” revenue ($41.24B) is significantly greater than Nvidia’s annual revenue (26.91B).\\n\\nComments: \\n\\nComparing revenue is pointless.\\n\\nWalmart has 611bn revenue vs apple’s 394bn.\\n\\nWalmart is 396bn mcap vs apples 2620bn.\\n\\nEveryone will now jump in about margins and profit. Which is the point im trying to make.\\n\\nPeople might also talk about profits being in apple’s favor \\n\\nThen i should bring up exxon mobil that had profits of 77bn off 398bn revenue.\\n\\nTrading at only 468bn market cap\\n\\nPeople might now talk about different industry, growth potential, cyclical businesses etc.\\n\\nNow people should understand comparing nvda to apple wearables by looking at revenue is completely useless\\nSo buy NVDA and AAPL, got it.\\nBut apple has no AI hype\\n',\n",
       " 2: 'Title: ‘I am truly sorry’: Credit Suisse chair pleads with angry shareholders at annual meeting\\n\\nComments: \\n\\nThe fact his last name is “Lehmann” is just…fitting.\\nWe’re *sorry*.  We really mean it\\nHe’s so sorry I’m certain he’s returning all bonuses and compensation he received while leading the bank to collapse\\n',\n",
       " 3: \"Title: BREAKING: The biggest Bank short is now TD Bank with $3.7 Billion on the line. $TD is Canada's 2nd largest Bank\\n\\nComments: \\n\\nI will absolutely long the short of a CAD bank. Regulations there are so much stricter than US... Even during the US 2008 crash CAD banks didn't flinch. Fuck, I might even open tomorrow with selling puts.\\nAsk yourself why is this narrative being pushed now?\\nThe mortgage insurance will cover the default so td will experience nothing less than gains\\n\",\n",
       " 4: 'Title: Nvidia ($NVDA) is the best risk-reward short over the next few months\\n\\nComments: \\n\\n$NVDS is the reverse NVDA etf for anyone not wanting to eat shit with puts.\\nA lot of people have lost money with this same line of thinking. The market can be irrational for a long time.\\nSmart play. Nvidia is WAY overvalued and is due for a major correction. Good luck with the puts 👍🏼\\n'}"
      ]
     },
     "execution_count": 49,
     "metadata": {},
     "output_type": "execute_result"
    }
   ],
   "source": [
    "title_and_comments"
   ]
  },
  {
   "cell_type": "code",
   "execution_count": 50,
   "id": "6d3280c4",
   "metadata": {},
   "outputs": [],
   "source": [
    "def create_prompt(title_and_comments):\n",
    "    task = \"Return the stock ticker or company name mentioned in the following title and comments and classify the sentiment around the company as positive, negative, or neutral. If no ticker or company is mentioned write 'No company mentioned'\\n\\n\"\n",
    "    return task+title_and_comments"
   ]
  },
  {
   "cell_type": "code",
   "execution_count": 51,
   "id": "0202c6fa",
   "metadata": {},
   "outputs": [
    {
     "name": "stdout",
     "output_type": "stream",
     "text": [
      "Return the stock ticker or company name mentioned in the following title and comments and classify the sentiment around the company as positive, negative, or neutral. If no ticker or company is mentioned write 'No company mentioned'\n",
      "\n",
      "Title: Apple’s “Wearables & Accessories” revenue ($41.24B) is significantly greater than Nvidia’s annual revenue (26.91B).\n",
      "\n",
      "Comments: \n",
      "\n",
      "Comparing revenue is pointless.\n",
      "\n",
      "Walmart has 611bn revenue vs apple’s 394bn.\n",
      "\n",
      "Walmart is 396bn mcap vs apples 2620bn.\n",
      "\n",
      "Everyone will now jump in about margins and profit. Which is the point im trying to make.\n",
      "\n",
      "People might also talk about profits being in apple’s favor \n",
      "\n",
      "Then i should bring up exxon mobil that had profits of 77bn off 398bn revenue.\n",
      "\n",
      "Trading at only 468bn market cap\n",
      "\n",
      "People might now talk about different industry, growth potential, cyclical businesses etc.\n",
      "\n",
      "Now people should understand comparing nvda to apple wearables by looking at revenue is completely useless\n",
      "So buy NVDA and AAPL, got it.\n",
      "But apple has no AI hype\n",
      "\n"
     ]
    }
   ],
   "source": [
    "print(create_prompt(title_and_comments[1]))"
   ]
  },
  {
   "cell_type": "code",
   "execution_count": 52,
   "id": "aa956423",
   "metadata": {},
   "outputs": [
    {
     "name": "stdout",
     "output_type": "stream",
     "text": [
      "Title: Apple’s “Wearables & Accessories” revenue ($41.24B) is significantly greater than Nvidia’s annual revenue (26.91B).\n",
      "\n",
      "Comments: \n",
      "\n",
      "Comparing revenue is pointless.\n",
      "\n",
      "Walmart has 611bn revenue vs apple’s 394bn.\n",
      "\n",
      "Walmart is 396bn mcap vs apples 2620bn.\n",
      "\n",
      "Everyone will now jump in about margins and profit. Which is the point im trying to make.\n",
      "\n",
      "People might also talk about profits being in apple’s favor \n",
      "\n",
      "Then i should bring up exxon mobil that had profits of 77bn off 398bn revenue.\n",
      "\n",
      "Trading at only 468bn market cap\n",
      "\n",
      "People might now talk about different industry, growth potential, cyclical businesses etc.\n",
      "\n",
      "Now people should understand comparing nvda to apple wearables by looking at revenue is completely useless\n",
      "So buy NVDA and AAPL, got it.\n",
      "But apple has no AI hype\n",
      "\n",
      "Sentiment Report from OpenAI: \n",
      "Apple: Neutral\n",
      "-----------------------------\n",
      "Title: ‘I am truly sorry’: Credit Suisse chair pleads with angry shareholders at annual meeting\n",
      "\n",
      "Comments: \n",
      "\n",
      "The fact his last name is “Lehmann” is just…fitting.\n",
      "We’re *sorry*.  We really mean it\n",
      "He’s so sorry I’m certain he’s returning all bonuses and compensation he received while leading the bank to collapse\n",
      "\n",
      "Sentiment Report from OpenAI: \n",
      "Company: Credit Suisse\n",
      "Sentiment: Negative\n",
      "-----------------------------\n",
      "Title: BREAKING: The biggest Bank short is now TD Bank with $3.7 Billion on the line. $TD is Canada's 2nd largest Bank\n",
      "\n",
      "Comments: \n",
      "\n",
      "I will absolutely long the short of a CAD bank. Regulations there are so much stricter than US... Even during the US 2008 crash CAD banks didn't flinch. Fuck, I might even open tomorrow with selling puts.\n",
      "Ask yourself why is this narrative being pushed now?\n",
      "The mortgage insurance will cover the default so td will experience nothing less than gains\n",
      "\n",
      "Sentiment Report from OpenAI: \n",
      "Ticker: $TD\n",
      "Sentiment: Positive\n",
      "-----------------------------\n",
      "Title: Nvidia ($NVDA) is the best risk-reward short over the next few months\n",
      "\n",
      "Comments: \n",
      "\n",
      "$NVDS is the reverse NVDA etf for anyone not wanting to eat shit with puts.\n",
      "A lot of people have lost money with this same line of thinking. The market can be irrational for a long time.\n",
      "Smart play. Nvidia is WAY overvalued and is due for a major correction. Good luck with the puts 👍🏼\n",
      "\n",
      "Sentiment Report from OpenAI: \n",
      "Company: Nvidia ($NVDA)\n",
      "Sentiment: Negative\n",
      "-----------------------------\n"
     ]
    }
   ],
   "source": [
    "for key, title_with_comments in title_and_comments.items():\n",
    "    prompt = create_prompt(title_with_comments)\n",
    "    \n",
    "    response = openai.Completion.create(\n",
    "        engine = 'text-davinci-003',\n",
    "        prompt = prompt,\n",
    "        max_tokens = 256,\n",
    "        temperature = 0,\n",
    "        top_p = 1.0\n",
    "    )\n",
    "    \n",
    "    print(title_with_comments)\n",
    "    print(f\"Sentiment Report from OpenAI: {response['choices'][0]['text']}\")\n",
    "    print('-----------------------------')"
   ]
  },
  {
   "cell_type": "code",
   "execution_count": null,
   "id": "074ec2e7",
   "metadata": {},
   "outputs": [],
   "source": []
  },
  {
   "cell_type": "code",
   "execution_count": null,
   "id": "7efda267",
   "metadata": {},
   "outputs": [],
   "source": []
  },
  {
   "cell_type": "code",
   "execution_count": null,
   "id": "a3db2f44",
   "metadata": {},
   "outputs": [],
   "source": []
  }
 ],
 "metadata": {
  "kernelspec": {
   "display_name": "Python 3 (ipykernel)",
   "language": "python",
   "name": "python3"
  },
  "language_info": {
   "codemirror_mode": {
    "name": "ipython",
    "version": 3
   },
   "file_extension": ".py",
   "mimetype": "text/x-python",
   "name": "python",
   "nbconvert_exporter": "python",
   "pygments_lexer": "ipython3",
   "version": "3.11.2"
  }
 },
 "nbformat": 4,
 "nbformat_minor": 5
}
