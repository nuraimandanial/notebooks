{
 "cells": [
  {
   "cell_type": "code",
   "execution_count": 1,
   "id": "0709fd57",
   "metadata": {},
   "outputs": [],
   "source": [
    "import openai"
   ]
  },
  {
   "cell_type": "code",
   "execution_count": 2,
   "id": "f0fa44e9",
   "metadata": {},
   "outputs": [],
   "source": [
    "prompt = \"\"\"Only answer the question below if you have 100% certainty of the facts.\n",
    "Context: {context}\n",
    "Q: What does the start-up company Pentera do and who invested in it?\n",
    "A: \"\"\""
   ]
  },
  {
   "cell_type": "code",
   "execution_count": 3,
   "id": "674cc8b3",
   "metadata": {},
   "outputs": [],
   "source": [
    "response = openai.Completion.create(\n",
    "    model = 'text-davinci-003',\n",
    "    temperature = 0,\n",
    "    max_tokens = 512,\n",
    "    prompt = prompt\n",
    ")"
   ]
  },
  {
   "cell_type": "code",
   "execution_count": 4,
   "id": "7f3acb63",
   "metadata": {},
   "outputs": [
    {
     "name": "stdout",
     "output_type": "stream",
     "text": [
      " I cannot answer this question with 100% certainty.\n"
     ]
    }
   ],
   "source": [
    "print(response['choices'][0]['text'])"
   ]
  },
  {
   "cell_type": "code",
   "execution_count": 5,
   "id": "9bacd128",
   "metadata": {},
   "outputs": [
    {
     "data": {
      "text/plain": [
       "'C:\\\\Users\\\\Noraiman Danial\\\\OneDrive\\\\Documents\\\\UNIMALAYA\\\\SEMESTER 2\\\\OPENAI\\\\UDEMY COURSE'"
      ]
     },
     "execution_count": 5,
     "metadata": {},
     "output_type": "execute_result"
    }
   ],
   "source": [
    "pwd"
   ]
  },
  {
   "cell_type": "code",
   "execution_count": 6,
   "id": "bd24992b",
   "metadata": {},
   "outputs": [],
   "source": [
    "import pandas as pd\n",
    "import ast"
   ]
  },
  {
   "cell_type": "code",
   "execution_count": 7,
   "id": "999ba684",
   "metadata": {},
   "outputs": [],
   "source": [
    "df = pd.read_csv(\"C:\\\\Users\\\\Noraiman Danial\\\\OneDrive\\\\Documents\\\\UNIMALAYA\\\\SEMESTER 2\\\\OPENAI\\\\UDEMY COURSE\\\\UPDATED-MARCH-2023-Notebooks-and-Files\\\\09-Text-Embedding\\\\unicorns.csv\")"
   ]
  },
  {
   "cell_type": "code",
   "execution_count": 8,
   "id": "ae40a832",
   "metadata": {},
   "outputs": [
    {
     "name": "stdout",
     "output_type": "stream",
     "text": [
      "Next Play Ventures\n",
      "Zeal Capital Partners\n",
      "SoftBank Group\n"
     ]
    }
   ],
   "source": [
    "for i in ast.literal_eval(df['Investors'][0]):\n",
    "    print(i)"
   ]
  },
  {
   "cell_type": "code",
   "execution_count": 9,
   "id": "27f71959",
   "metadata": {},
   "outputs": [
    {
     "data": {
      "text/html": [
       "<div>\n",
       "<style scoped>\n",
       "    .dataframe tbody tr th:only-of-type {\n",
       "        vertical-align: middle;\n",
       "    }\n",
       "\n",
       "    .dataframe tbody tr th {\n",
       "        vertical-align: top;\n",
       "    }\n",
       "\n",
       "    .dataframe thead th {\n",
       "        text-align: right;\n",
       "    }\n",
       "</style>\n",
       "<table border=\"1\" class=\"dataframe\">\n",
       "  <thead>\n",
       "    <tr style=\"text-align: right;\">\n",
       "      <th></th>\n",
       "      <th>Updated at</th>\n",
       "      <th>Company</th>\n",
       "      <th>Crunchbase Url</th>\n",
       "      <th>Last Valuation (Billion $)</th>\n",
       "      <th>Date Joined</th>\n",
       "      <th>Year Joined</th>\n",
       "      <th>City</th>\n",
       "      <th>Country</th>\n",
       "      <th>Industry</th>\n",
       "      <th>Investors</th>\n",
       "      <th>Company Website</th>\n",
       "    </tr>\n",
       "  </thead>\n",
       "  <tbody>\n",
       "    <tr>\n",
       "      <th>0</th>\n",
       "      <td>10/31/2022, 2:37:05 AM</td>\n",
       "      <td>Esusu</td>\n",
       "      <td>https://www.cbinsights.com/company/esusu</td>\n",
       "      <td>1.0</td>\n",
       "      <td>1/27/2022</td>\n",
       "      <td>2022</td>\n",
       "      <td>New York</td>\n",
       "      <td>United States</td>\n",
       "      <td>Fintech</td>\n",
       "      <td>[\"Next Play Ventures\",\"Zeal Capital Partners\",...</td>\n",
       "      <td>NaN</td>\n",
       "    </tr>\n",
       "    <tr>\n",
       "      <th>1</th>\n",
       "      <td>10/31/2022, 2:37:05 AM</td>\n",
       "      <td>Fever Labs</td>\n",
       "      <td>https://www.cbinsights.com/company/fever-labs</td>\n",
       "      <td>1.0</td>\n",
       "      <td>1/26/2022</td>\n",
       "      <td>2022</td>\n",
       "      <td>New York</td>\n",
       "      <td>United States</td>\n",
       "      <td>Internet software &amp; services</td>\n",
       "      <td>[\"Accel\",\"14W\",\"GS Growth\"]</td>\n",
       "      <td>NaN</td>\n",
       "    </tr>\n",
       "    <tr>\n",
       "      <th>2</th>\n",
       "      <td>10/31/2022, 2:37:04 AM</td>\n",
       "      <td>Minio</td>\n",
       "      <td>https://www.cbinsights.com/company/minio</td>\n",
       "      <td>1.0</td>\n",
       "      <td>1/26/2022</td>\n",
       "      <td>2022</td>\n",
       "      <td>Palo Alto</td>\n",
       "      <td>United States</td>\n",
       "      <td>Data management &amp; analytics</td>\n",
       "      <td>[\"General Catalyst\",\"Nexus Venture Partners\",\"...</td>\n",
       "      <td>NaN</td>\n",
       "    </tr>\n",
       "    <tr>\n",
       "      <th>3</th>\n",
       "      <td>10/31/2022, 2:37:04 AM</td>\n",
       "      <td>Darwinbox</td>\n",
       "      <td>https://www.cbinsights.com/company/darwinbox</td>\n",
       "      <td>1.0</td>\n",
       "      <td>1/25/2022</td>\n",
       "      <td>2022</td>\n",
       "      <td>Hyderabad</td>\n",
       "      <td>India</td>\n",
       "      <td>Internet software &amp; services</td>\n",
       "      <td>[\"Lightspeed India Partners\",\"Sequoia Capital ...</td>\n",
       "      <td>NaN</td>\n",
       "    </tr>\n",
       "    <tr>\n",
       "      <th>4</th>\n",
       "      <td>10/31/2022, 2:37:04 AM</td>\n",
       "      <td>Pentera</td>\n",
       "      <td>https://www.cbinsights.com/company/pcysys</td>\n",
       "      <td>1.0</td>\n",
       "      <td>1/11/2022</td>\n",
       "      <td>2022</td>\n",
       "      <td>Petah Tikva</td>\n",
       "      <td>Israel</td>\n",
       "      <td>Cybersecurity</td>\n",
       "      <td>[\"AWZ Ventures\",\"Blackstone\",\"Insight Partners\"]</td>\n",
       "      <td>NaN</td>\n",
       "    </tr>\n",
       "  </tbody>\n",
       "</table>\n",
       "</div>"
      ],
      "text/plain": [
       "               Updated at     Company   \n",
       "0  10/31/2022, 2:37:05 AM       Esusu  \\\n",
       "1  10/31/2022, 2:37:05 AM  Fever Labs   \n",
       "2  10/31/2022, 2:37:04 AM       Minio   \n",
       "3  10/31/2022, 2:37:04 AM   Darwinbox   \n",
       "4  10/31/2022, 2:37:04 AM     Pentera   \n",
       "\n",
       "                                  Crunchbase Url  Last Valuation (Billion $)   \n",
       "0       https://www.cbinsights.com/company/esusu                         1.0  \\\n",
       "1  https://www.cbinsights.com/company/fever-labs                         1.0   \n",
       "2       https://www.cbinsights.com/company/minio                         1.0   \n",
       "3   https://www.cbinsights.com/company/darwinbox                         1.0   \n",
       "4      https://www.cbinsights.com/company/pcysys                         1.0   \n",
       "\n",
       "  Date Joined  Year Joined         City        Country   \n",
       "0   1/27/2022         2022     New York  United States  \\\n",
       "1   1/26/2022         2022     New York  United States   \n",
       "2   1/26/2022         2022    Palo Alto  United States   \n",
       "3   1/25/2022         2022    Hyderabad          India   \n",
       "4   1/11/2022         2022  Petah Tikva         Israel   \n",
       "\n",
       "                       Industry   \n",
       "0                       Fintech  \\\n",
       "1  Internet software & services   \n",
       "2   Data management & analytics   \n",
       "3  Internet software & services   \n",
       "4                Cybersecurity    \n",
       "\n",
       "                                           Investors  Company Website  \n",
       "0  [\"Next Play Ventures\",\"Zeal Capital Partners\",...              NaN  \n",
       "1                        [\"Accel\",\"14W\",\"GS Growth\"]              NaN  \n",
       "2  [\"General Catalyst\",\"Nexus Venture Partners\",\"...              NaN  \n",
       "3  [\"Lightspeed India Partners\",\"Sequoia Capital ...              NaN  \n",
       "4   [\"AWZ Ventures\",\"Blackstone\",\"Insight Partners\"]              NaN  "
      ]
     },
     "execution_count": 9,
     "metadata": {},
     "output_type": "execute_result"
    }
   ],
   "source": [
    "df.head()"
   ]
  },
  {
   "cell_type": "code",
   "execution_count": 10,
   "id": "0bdfdace",
   "metadata": {},
   "outputs": [],
   "source": [
    "import ast"
   ]
  },
  {
   "cell_type": "code",
   "execution_count": 11,
   "id": "c0d843bb",
   "metadata": {},
   "outputs": [],
   "source": [
    "def summary(company, crunchbase_url, city, country, industry, investor_list):\n",
    "    investors = \"The investors in the company are \"\n",
    "    \n",
    "    for investor in ast.literal_eval(investor_list):\n",
    "        investors += f\"{investor},\"\n",
    "        \n",
    "    text = f\"{company} has headquarters in {city} and is in the field of {industry}. {investors}. More info at {crunchbase_url}\"\n",
    "    \n",
    "    return text"
   ]
  },
  {
   "cell_type": "code",
   "execution_count": 12,
   "id": "92551f43",
   "metadata": {},
   "outputs": [],
   "source": [
    "df['summary'] = df.apply(lambda df: summary(df['Company'], df['Crunchbase Url'], df['City'], df['Country'], df['Industry'], df['Investors']), axis = 1)"
   ]
  },
  {
   "cell_type": "code",
   "execution_count": 13,
   "id": "ae6d2347",
   "metadata": {},
   "outputs": [
    {
     "data": {
      "text/plain": [
       "'Esusu has headquarters in New York and is in the field of Fintech. The investors in the company are Next Play Ventures,Zeal Capital Partners,SoftBank Group,. More info at https://www.cbinsights.com/company/esusu'"
      ]
     },
     "execution_count": 13,
     "metadata": {},
     "output_type": "execute_result"
    }
   ],
   "source": [
    "df['summary'][0]"
   ]
  },
  {
   "cell_type": "code",
   "execution_count": 14,
   "id": "8e6ccc7b",
   "metadata": {},
   "outputs": [],
   "source": [
    "import tiktoken"
   ]
  },
  {
   "cell_type": "code",
   "execution_count": 15,
   "id": "c2d02969",
   "metadata": {},
   "outputs": [],
   "source": [
    "def num_tokens_from_string(string, encoding_name):\n",
    "    encoding = tiktoken.get_encoding(encoding_name)\n",
    "    num_tokens = len(encoding.encode(string))\n",
    "    \n",
    "    return num_tokens"
   ]
  },
  {
   "cell_type": "code",
   "execution_count": 16,
   "id": "de3ed91a",
   "metadata": {},
   "outputs": [
    {
     "data": {
      "text/plain": [
       "49"
      ]
     },
     "execution_count": 16,
     "metadata": {},
     "output_type": "execute_result"
    }
   ],
   "source": [
    "num_tokens_from_string(df['summary'][0], \"cl100k_base\")"
   ]
  },
  {
   "cell_type": "code",
   "execution_count": 17,
   "id": "d961a69f",
   "metadata": {},
   "outputs": [
    {
     "data": {
      "text/plain": [
       "29"
      ]
     },
     "execution_count": 17,
     "metadata": {},
     "output_type": "execute_result"
    }
   ],
   "source": [
    "len(df['summary'][0].split())"
   ]
  },
  {
   "cell_type": "code",
   "execution_count": 18,
   "id": "6823e49f",
   "metadata": {},
   "outputs": [],
   "source": [
    "df['token_count'] = df['summary'].apply(lambda text: num_tokens_from_string(text, \"cl100k_base\"))"
   ]
  },
  {
   "cell_type": "code",
   "execution_count": 19,
   "id": "abf9204c",
   "metadata": {},
   "outputs": [
    {
     "data": {
      "text/plain": [
       "60236"
      ]
     },
     "execution_count": 19,
     "metadata": {},
     "output_type": "execute_result"
    }
   ],
   "source": [
    "df['token_count'].sum()"
   ]
  },
  {
   "cell_type": "code",
   "execution_count": 20,
   "id": "683a7c28",
   "metadata": {},
   "outputs": [],
   "source": [
    "# $0.0004 / 1k tokens "
   ]
  },
  {
   "cell_type": "code",
   "execution_count": 21,
   "id": "86aba87f",
   "metadata": {},
   "outputs": [
    {
     "data": {
      "text/plain": [
       "0.024094400000000002"
      ]
     },
     "execution_count": 21,
     "metadata": {},
     "output_type": "execute_result"
    }
   ],
   "source": [
    "df['token_count'].sum() * 0.0004 / 1000"
   ]
  },
  {
   "cell_type": "code",
   "execution_count": 22,
   "id": "e52ebd7e",
   "metadata": {},
   "outputs": [],
   "source": [
    "def get_embedding(text):\n",
    "    result = openai.Embedding.create(\n",
    "        model = 'text-embedding-ada-002',\n",
    "        input = text\n",
    "    )\n",
    "    \n",
    "    return result['data'][0]['embedding']"
   ]
  },
  {
   "cell_type": "code",
   "execution_count": 23,
   "id": "8ee65fa3",
   "metadata": {},
   "outputs": [],
   "source": [
    "vector = get_embedding('Esusu has headquarters in New York and is in the field of Fintech. The investors in the company are Next Play Ventures,Zeal Capital Partners,SoftBank Group,. More info at https://www.cbinsights.com/company/esusu')"
   ]
  },
  {
   "cell_type": "code",
   "execution_count": 24,
   "id": "92c60864",
   "metadata": {},
   "outputs": [
    {
     "data": {
      "text/plain": [
       "1536"
      ]
     },
     "execution_count": 24,
     "metadata": {},
     "output_type": "execute_result"
    }
   ],
   "source": [
    "len(vector)"
   ]
  },
  {
   "cell_type": "code",
   "execution_count": 25,
   "id": "b3ff9e83",
   "metadata": {},
   "outputs": [],
   "source": [
    "# df['embedding'] = df['summary'].apply(get_embedding)"
   ]
  },
  {
   "cell_type": "code",
   "execution_count": 26,
   "id": "c7987084",
   "metadata": {},
   "outputs": [],
   "source": [
    "# df.to_csv('new-unicorns.csv')"
   ]
  },
  {
   "cell_type": "code",
   "execution_count": 36,
   "id": "e61fe21d",
   "metadata": {},
   "outputs": [],
   "source": [
    "df = pd.read_csv(\"C:\\\\Users\\\\Noraiman Danial\\\\OneDrive\\\\Documents\\\\UNIMALAYA\\\\SEMESTER 2\\\\OPENAI\\\\UDEMY COURSE\\\\UPDATED-MARCH-2023-Notebooks-and-Files\\\\09-Text-Embedding\\\\unicorns_with_embeddings.csv\")"
   ]
  },
  {
   "cell_type": "code",
   "execution_count": 37,
   "id": "4e5d5108",
   "metadata": {},
   "outputs": [
    {
     "data": {
      "text/html": [
       "<div>\n",
       "<style scoped>\n",
       "    .dataframe tbody tr th:only-of-type {\n",
       "        vertical-align: middle;\n",
       "    }\n",
       "\n",
       "    .dataframe tbody tr th {\n",
       "        vertical-align: top;\n",
       "    }\n",
       "\n",
       "    .dataframe thead th {\n",
       "        text-align: right;\n",
       "    }\n",
       "</style>\n",
       "<table border=\"1\" class=\"dataframe\">\n",
       "  <thead>\n",
       "    <tr style=\"text-align: right;\">\n",
       "      <th></th>\n",
       "      <th>Updated at</th>\n",
       "      <th>Company</th>\n",
       "      <th>Crunchbase Url</th>\n",
       "      <th>Last Valuation (Billion $)</th>\n",
       "      <th>Date Joined</th>\n",
       "      <th>Year Joined</th>\n",
       "      <th>City</th>\n",
       "      <th>Country</th>\n",
       "      <th>Industry</th>\n",
       "      <th>Investors</th>\n",
       "      <th>Company Website</th>\n",
       "      <th>summary</th>\n",
       "      <th>token_count</th>\n",
       "      <th>embedding</th>\n",
       "    </tr>\n",
       "  </thead>\n",
       "  <tbody>\n",
       "    <tr>\n",
       "      <th>0</th>\n",
       "      <td>10/31/2022, 2:37:05 AM</td>\n",
       "      <td>Esusu</td>\n",
       "      <td>https://www.cbinsights.com/company/esusu</td>\n",
       "      <td>1.0</td>\n",
       "      <td>1/27/2022</td>\n",
       "      <td>2022</td>\n",
       "      <td>New York</td>\n",
       "      <td>United States</td>\n",
       "      <td>Fintech</td>\n",
       "      <td>[\"Next Play Ventures\",\"Zeal Capital Partners\",...</td>\n",
       "      <td>NaN</td>\n",
       "      <td>Esusu has headquarters in New York in United S...</td>\n",
       "      <td>58</td>\n",
       "      <td>[0.01195491198450327, -0.017717931419610977, -...</td>\n",
       "    </tr>\n",
       "    <tr>\n",
       "      <th>1</th>\n",
       "      <td>10/31/2022, 2:37:05 AM</td>\n",
       "      <td>Fever Labs</td>\n",
       "      <td>https://www.cbinsights.com/company/fever-labs</td>\n",
       "      <td>1.0</td>\n",
       "      <td>1/26/2022</td>\n",
       "      <td>2022</td>\n",
       "      <td>New York</td>\n",
       "      <td>United States</td>\n",
       "      <td>Internet software &amp; services</td>\n",
       "      <td>[\"Accel\",\"14W\",\"GS Growth\"]</td>\n",
       "      <td>NaN</td>\n",
       "      <td>Fever Labs has headquarters in New York in Uni...</td>\n",
       "      <td>60</td>\n",
       "      <td>[0.009171437472105026, 0.01314949057996273, -0...</td>\n",
       "    </tr>\n",
       "    <tr>\n",
       "      <th>2</th>\n",
       "      <td>10/31/2022, 2:37:04 AM</td>\n",
       "      <td>Minio</td>\n",
       "      <td>https://www.cbinsights.com/company/minio</td>\n",
       "      <td>1.0</td>\n",
       "      <td>1/26/2022</td>\n",
       "      <td>2022</td>\n",
       "      <td>Palo Alto</td>\n",
       "      <td>United States</td>\n",
       "      <td>Data management &amp; analytics</td>\n",
       "      <td>[\"General Catalyst\",\"Nexus Venture Partners\",\"...</td>\n",
       "      <td>NaN</td>\n",
       "      <td>Minio has headquarters in Palo Alto in United ...</td>\n",
       "      <td>57</td>\n",
       "      <td>[0.002730059437453747, -0.03737899661064148, 0...</td>\n",
       "    </tr>\n",
       "    <tr>\n",
       "      <th>3</th>\n",
       "      <td>10/31/2022, 2:37:04 AM</td>\n",
       "      <td>Darwinbox</td>\n",
       "      <td>https://www.cbinsights.com/company/darwinbox</td>\n",
       "      <td>1.0</td>\n",
       "      <td>1/25/2022</td>\n",
       "      <td>2022</td>\n",
       "      <td>Hyderabad</td>\n",
       "      <td>India</td>\n",
       "      <td>Internet software &amp; services</td>\n",
       "      <td>[\"Lightspeed India Partners\",\"Sequoia Capital ...</td>\n",
       "      <td>NaN</td>\n",
       "      <td>Darwinbox has headquarters in Hyderabad in Ind...</td>\n",
       "      <td>62</td>\n",
       "      <td>[-0.0024771858006715775, -0.024587858468294144...</td>\n",
       "    </tr>\n",
       "    <tr>\n",
       "      <th>4</th>\n",
       "      <td>10/31/2022, 2:37:04 AM</td>\n",
       "      <td>Pentera</td>\n",
       "      <td>https://www.cbinsights.com/company/pcysys</td>\n",
       "      <td>1.0</td>\n",
       "      <td>1/11/2022</td>\n",
       "      <td>2022</td>\n",
       "      <td>Petah Tikva</td>\n",
       "      <td>Israel</td>\n",
       "      <td>Cybersecurity</td>\n",
       "      <td>[\"AWZ Ventures\",\"Blackstone\",\"Insight Partners\"]</td>\n",
       "      <td>NaN</td>\n",
       "      <td>Pentera has headquarters in Petah Tikva in Isr...</td>\n",
       "      <td>58</td>\n",
       "      <td>[0.011331121437251568, -0.011193273589015007, ...</td>\n",
       "    </tr>\n",
       "  </tbody>\n",
       "</table>\n",
       "</div>"
      ],
      "text/plain": [
       "               Updated at     Company   \n",
       "0  10/31/2022, 2:37:05 AM       Esusu  \\\n",
       "1  10/31/2022, 2:37:05 AM  Fever Labs   \n",
       "2  10/31/2022, 2:37:04 AM       Minio   \n",
       "3  10/31/2022, 2:37:04 AM   Darwinbox   \n",
       "4  10/31/2022, 2:37:04 AM     Pentera   \n",
       "\n",
       "                                  Crunchbase Url  Last Valuation (Billion $)   \n",
       "0       https://www.cbinsights.com/company/esusu                         1.0  \\\n",
       "1  https://www.cbinsights.com/company/fever-labs                         1.0   \n",
       "2       https://www.cbinsights.com/company/minio                         1.0   \n",
       "3   https://www.cbinsights.com/company/darwinbox                         1.0   \n",
       "4      https://www.cbinsights.com/company/pcysys                         1.0   \n",
       "\n",
       "  Date Joined  Year Joined         City        Country   \n",
       "0   1/27/2022         2022     New York  United States  \\\n",
       "1   1/26/2022         2022     New York  United States   \n",
       "2   1/26/2022         2022    Palo Alto  United States   \n",
       "3   1/25/2022         2022    Hyderabad          India   \n",
       "4   1/11/2022         2022  Petah Tikva         Israel   \n",
       "\n",
       "                       Industry   \n",
       "0                       Fintech  \\\n",
       "1  Internet software & services   \n",
       "2   Data management & analytics   \n",
       "3  Internet software & services   \n",
       "4                Cybersecurity    \n",
       "\n",
       "                                           Investors  Company Website   \n",
       "0  [\"Next Play Ventures\",\"Zeal Capital Partners\",...              NaN  \\\n",
       "1                        [\"Accel\",\"14W\",\"GS Growth\"]              NaN   \n",
       "2  [\"General Catalyst\",\"Nexus Venture Partners\",\"...              NaN   \n",
       "3  [\"Lightspeed India Partners\",\"Sequoia Capital ...              NaN   \n",
       "4   [\"AWZ Ventures\",\"Blackstone\",\"Insight Partners\"]              NaN   \n",
       "\n",
       "                                             summary  token_count   \n",
       "0  Esusu has headquarters in New York in United S...           58  \\\n",
       "1  Fever Labs has headquarters in New York in Uni...           60   \n",
       "2  Minio has headquarters in Palo Alto in United ...           57   \n",
       "3  Darwinbox has headquarters in Hyderabad in Ind...           62   \n",
       "4  Pentera has headquarters in Petah Tikva in Isr...           58   \n",
       "\n",
       "                                           embedding  \n",
       "0  [0.01195491198450327, -0.017717931419610977, -...  \n",
       "1  [0.009171437472105026, 0.01314949057996273, -0...  \n",
       "2  [0.002730059437453747, -0.03737899661064148, 0...  \n",
       "3  [-0.0024771858006715775, -0.024587858468294144...  \n",
       "4  [0.011331121437251568, -0.011193273589015007, ...  "
      ]
     },
     "execution_count": 37,
     "metadata": {},
     "output_type": "execute_result"
    }
   ],
   "source": [
    "df.head()"
   ]
  },
  {
   "cell_type": "code",
   "execution_count": 38,
   "id": "3cd00e23",
   "metadata": {},
   "outputs": [],
   "source": [
    "prompt = \"What does the start-up company Pentera do and who invested in it?\""
   ]
  },
  {
   "cell_type": "code",
   "execution_count": 39,
   "id": "8fce501e",
   "metadata": {},
   "outputs": [],
   "source": [
    "prompt_embedding = get_embedding(prompt)"
   ]
  },
  {
   "cell_type": "code",
   "execution_count": 40,
   "id": "a5c43f17",
   "metadata": {},
   "outputs": [],
   "source": [
    "import numpy as np"
   ]
  },
  {
   "cell_type": "code",
   "execution_count": 48,
   "id": "53c77d97",
   "metadata": {},
   "outputs": [],
   "source": [
    "def vector_similarity(vec1,vec2):\n",
    "    return np.dot(np.array(vec1), np.array(vec2))"
   ]
  },
  {
   "cell_type": "code",
   "execution_count": 50,
   "id": "55dbc650",
   "metadata": {
    "scrolled": true
   },
   "outputs": [
    {
     "ename": "UFuncTypeError",
     "evalue": "ufunc 'multiply' did not contain a loop with signature matching types (dtype('<U34391'), dtype('<U32')) -> None",
     "output_type": "error",
     "traceback": [
      "\u001b[1;31m---------------------------------------------------------------------------\u001b[0m",
      "\u001b[1;31mUFuncTypeError\u001b[0m                            Traceback (most recent call last)",
      "Cell \u001b[1;32mIn[50], line 1\u001b[0m\n\u001b[1;32m----> 1\u001b[0m df[\u001b[38;5;124m\"\u001b[39m\u001b[38;5;124mprompt_similarity\u001b[39m\u001b[38;5;124m\"\u001b[39m] \u001b[38;5;241m=\u001b[39m \u001b[43mdf\u001b[49m\u001b[43m[\u001b[49m\u001b[38;5;124;43m'\u001b[39;49m\u001b[38;5;124;43membedding\u001b[39;49m\u001b[38;5;124;43m'\u001b[39;49m\u001b[43m]\u001b[49m\u001b[38;5;241;43m.\u001b[39;49m\u001b[43mapply\u001b[49m\u001b[43m(\u001b[49m\u001b[38;5;28;43;01mlambda\u001b[39;49;00m\u001b[43m \u001b[49m\u001b[43mvector\u001b[49m\u001b[43m:\u001b[49m\u001b[43m \u001b[49m\u001b[43mvector_similarity\u001b[49m\u001b[43m(\u001b[49m\u001b[43mvector\u001b[49m\u001b[43m,\u001b[49m\u001b[43m \u001b[49m\u001b[43mprompt_embedding\u001b[49m\u001b[43m)\u001b[49m\u001b[43m,\u001b[49m\u001b[43m \u001b[49m\u001b[38;5;241;43m0\u001b[39;49m\u001b[43m)\u001b[49m\n",
      "File \u001b[1;32mC:\\Python311\\Lib\\site-packages\\pandas\\core\\series.py:4631\u001b[0m, in \u001b[0;36mSeries.apply\u001b[1;34m(self, func, convert_dtype, args, **kwargs)\u001b[0m\n\u001b[0;32m   4521\u001b[0m \u001b[38;5;28;01mdef\u001b[39;00m \u001b[38;5;21mapply\u001b[39m(\n\u001b[0;32m   4522\u001b[0m     \u001b[38;5;28mself\u001b[39m,\n\u001b[0;32m   4523\u001b[0m     func: AggFuncType,\n\u001b[1;32m   (...)\u001b[0m\n\u001b[0;32m   4526\u001b[0m     \u001b[38;5;241m*\u001b[39m\u001b[38;5;241m*\u001b[39mkwargs,\n\u001b[0;32m   4527\u001b[0m ) \u001b[38;5;241m-\u001b[39m\u001b[38;5;241m>\u001b[39m DataFrame \u001b[38;5;241m|\u001b[39m Series:\n\u001b[0;32m   4528\u001b[0m \u001b[38;5;250m    \u001b[39m\u001b[38;5;124;03m\"\"\"\u001b[39;00m\n\u001b[0;32m   4529\u001b[0m \u001b[38;5;124;03m    Invoke function on values of Series.\u001b[39;00m\n\u001b[0;32m   4530\u001b[0m \n\u001b[1;32m   (...)\u001b[0m\n\u001b[0;32m   4629\u001b[0m \u001b[38;5;124;03m    dtype: float64\u001b[39;00m\n\u001b[0;32m   4630\u001b[0m \u001b[38;5;124;03m    \"\"\"\u001b[39;00m\n\u001b[1;32m-> 4631\u001b[0m     \u001b[38;5;28;01mreturn\u001b[39;00m \u001b[43mSeriesApply\u001b[49m\u001b[43m(\u001b[49m\u001b[38;5;28;43mself\u001b[39;49m\u001b[43m,\u001b[49m\u001b[43m \u001b[49m\u001b[43mfunc\u001b[49m\u001b[43m,\u001b[49m\u001b[43m \u001b[49m\u001b[43mconvert_dtype\u001b[49m\u001b[43m,\u001b[49m\u001b[43m \u001b[49m\u001b[43margs\u001b[49m\u001b[43m,\u001b[49m\u001b[43m \u001b[49m\u001b[43mkwargs\u001b[49m\u001b[43m)\u001b[49m\u001b[38;5;241;43m.\u001b[39;49m\u001b[43mapply\u001b[49m\u001b[43m(\u001b[49m\u001b[43m)\u001b[49m\n",
      "File \u001b[1;32mC:\\Python311\\Lib\\site-packages\\pandas\\core\\apply.py:1025\u001b[0m, in \u001b[0;36mSeriesApply.apply\u001b[1;34m(self)\u001b[0m\n\u001b[0;32m   1022\u001b[0m     \u001b[38;5;28;01mreturn\u001b[39;00m \u001b[38;5;28mself\u001b[39m\u001b[38;5;241m.\u001b[39mapply_str()\n\u001b[0;32m   1024\u001b[0m \u001b[38;5;66;03m# self.f is Callable\u001b[39;00m\n\u001b[1;32m-> 1025\u001b[0m \u001b[38;5;28;01mreturn\u001b[39;00m \u001b[38;5;28;43mself\u001b[39;49m\u001b[38;5;241;43m.\u001b[39;49m\u001b[43mapply_standard\u001b[49m\u001b[43m(\u001b[49m\u001b[43m)\u001b[49m\n",
      "File \u001b[1;32mC:\\Python311\\Lib\\site-packages\\pandas\\core\\apply.py:1076\u001b[0m, in \u001b[0;36mSeriesApply.apply_standard\u001b[1;34m(self)\u001b[0m\n\u001b[0;32m   1074\u001b[0m     \u001b[38;5;28;01melse\u001b[39;00m:\n\u001b[0;32m   1075\u001b[0m         values \u001b[38;5;241m=\u001b[39m obj\u001b[38;5;241m.\u001b[39mastype(\u001b[38;5;28mobject\u001b[39m)\u001b[38;5;241m.\u001b[39m_values\n\u001b[1;32m-> 1076\u001b[0m         mapped \u001b[38;5;241m=\u001b[39m \u001b[43mlib\u001b[49m\u001b[38;5;241;43m.\u001b[39;49m\u001b[43mmap_infer\u001b[49m\u001b[43m(\u001b[49m\n\u001b[0;32m   1077\u001b[0m \u001b[43m            \u001b[49m\u001b[43mvalues\u001b[49m\u001b[43m,\u001b[49m\n\u001b[0;32m   1078\u001b[0m \u001b[43m            \u001b[49m\u001b[43mf\u001b[49m\u001b[43m,\u001b[49m\n\u001b[0;32m   1079\u001b[0m \u001b[43m            \u001b[49m\u001b[43mconvert\u001b[49m\u001b[38;5;241;43m=\u001b[39;49m\u001b[38;5;28;43mself\u001b[39;49m\u001b[38;5;241;43m.\u001b[39;49m\u001b[43mconvert_dtype\u001b[49m\u001b[43m,\u001b[49m\n\u001b[0;32m   1080\u001b[0m \u001b[43m        \u001b[49m\u001b[43m)\u001b[49m\n\u001b[0;32m   1082\u001b[0m \u001b[38;5;28;01mif\u001b[39;00m \u001b[38;5;28mlen\u001b[39m(mapped) \u001b[38;5;129;01mand\u001b[39;00m \u001b[38;5;28misinstance\u001b[39m(mapped[\u001b[38;5;241m0\u001b[39m], ABCSeries):\n\u001b[0;32m   1083\u001b[0m     \u001b[38;5;66;03m# GH#43986 Need to do list(mapped) in order to get treated as nested\u001b[39;00m\n\u001b[0;32m   1084\u001b[0m     \u001b[38;5;66;03m#  See also GH#25959 regarding EA support\u001b[39;00m\n\u001b[0;32m   1085\u001b[0m     \u001b[38;5;28;01mreturn\u001b[39;00m obj\u001b[38;5;241m.\u001b[39m_constructor_expanddim(\u001b[38;5;28mlist\u001b[39m(mapped), index\u001b[38;5;241m=\u001b[39mobj\u001b[38;5;241m.\u001b[39mindex)\n",
      "File \u001b[1;32mC:\\Python311\\Lib\\site-packages\\pandas\\_libs\\lib.pyx:2834\u001b[0m, in \u001b[0;36mpandas._libs.lib.map_infer\u001b[1;34m()\u001b[0m\n",
      "Cell \u001b[1;32mIn[50], line 1\u001b[0m, in \u001b[0;36m<lambda>\u001b[1;34m(vector)\u001b[0m\n\u001b[1;32m----> 1\u001b[0m df[\u001b[38;5;124m\"\u001b[39m\u001b[38;5;124mprompt_similarity\u001b[39m\u001b[38;5;124m\"\u001b[39m] \u001b[38;5;241m=\u001b[39m df[\u001b[38;5;124m'\u001b[39m\u001b[38;5;124membedding\u001b[39m\u001b[38;5;124m'\u001b[39m]\u001b[38;5;241m.\u001b[39mapply(\u001b[38;5;28;01mlambda\u001b[39;00m vector: \u001b[43mvector_similarity\u001b[49m\u001b[43m(\u001b[49m\u001b[43mvector\u001b[49m\u001b[43m,\u001b[49m\u001b[43m \u001b[49m\u001b[43mprompt_embedding\u001b[49m\u001b[43m)\u001b[49m, \u001b[38;5;241m0\u001b[39m)\n",
      "Cell \u001b[1;32mIn[48], line 2\u001b[0m, in \u001b[0;36mvector_similarity\u001b[1;34m(vec1, vec2)\u001b[0m\n\u001b[0;32m      1\u001b[0m \u001b[38;5;28;01mdef\u001b[39;00m \u001b[38;5;21mvector_similarity\u001b[39m(vec1,vec2):\n\u001b[1;32m----> 2\u001b[0m     \u001b[38;5;28;01mreturn\u001b[39;00m \u001b[43mnp\u001b[49m\u001b[38;5;241;43m.\u001b[39;49m\u001b[43mdot\u001b[49m\u001b[43m(\u001b[49m\u001b[43mnp\u001b[49m\u001b[38;5;241;43m.\u001b[39;49m\u001b[43marray\u001b[49m\u001b[43m(\u001b[49m\u001b[43mvec1\u001b[49m\u001b[43m)\u001b[49m\u001b[43m,\u001b[49m\u001b[43m \u001b[49m\u001b[43mnp\u001b[49m\u001b[38;5;241;43m.\u001b[39;49m\u001b[43marray\u001b[49m\u001b[43m(\u001b[49m\u001b[43mvec2\u001b[49m\u001b[43m)\u001b[49m\u001b[43m)\u001b[49m\n",
      "File \u001b[1;32m<__array_function__ internals>:200\u001b[0m, in \u001b[0;36mdot\u001b[1;34m(*args, **kwargs)\u001b[0m\n",
      "\u001b[1;31mUFuncTypeError\u001b[0m: ufunc 'multiply' did not contain a loop with signature matching types (dtype('<U34391'), dtype('<U32')) -> None"
     ]
    }
   ],
   "source": [
    "df[\"prompt_similarity\"] = df['embedding'].apply(lambda vector: vector_similarity(vector, prompt_embedding))"
   ]
  },
  {
   "cell_type": "code",
   "execution_count": null,
   "id": "aa9cec5c",
   "metadata": {
    "scrolled": true
   },
   "outputs": [],
   "source": [
    "df['prompt_similarity']"
   ]
  },
  {
   "cell_type": "code",
   "execution_count": 43,
   "id": "19972da4",
   "metadata": {},
   "outputs": [
    {
     "ename": "KeyError",
     "evalue": "'prompt_similarity'",
     "output_type": "error",
     "traceback": [
      "\u001b[1;31m---------------------------------------------------------------------------\u001b[0m",
      "\u001b[1;31mKeyError\u001b[0m                                  Traceback (most recent call last)",
      "Cell \u001b[1;32mIn[43], line 1\u001b[0m\n\u001b[1;32m----> 1\u001b[0m \u001b[43mdf\u001b[49m\u001b[38;5;241;43m.\u001b[39;49m\u001b[43msort_values\u001b[49m\u001b[43m(\u001b[49m\u001b[38;5;124;43m\"\u001b[39;49m\u001b[38;5;124;43mprompt_similarity\u001b[39;49m\u001b[38;5;124;43m\"\u001b[39;49m\u001b[43m,\u001b[49m\u001b[43m \u001b[49m\u001b[43mascending\u001b[49m\u001b[38;5;241;43m=\u001b[39;49m\u001b[38;5;28;43;01mFalse\u001b[39;49;00m\u001b[43m)\u001b[49m\u001b[38;5;241m.\u001b[39mhead()\n",
      "File \u001b[1;32mC:\\Python311\\Lib\\site-packages\\pandas\\core\\frame.py:6766\u001b[0m, in \u001b[0;36mDataFrame.sort_values\u001b[1;34m(self, by, axis, ascending, inplace, kind, na_position, ignore_index, key)\u001b[0m\n\u001b[0;32m   6762\u001b[0m \u001b[38;5;28;01melif\u001b[39;00m \u001b[38;5;28mlen\u001b[39m(by):\n\u001b[0;32m   6763\u001b[0m     \u001b[38;5;66;03m# len(by) == 1\u001b[39;00m\n\u001b[0;32m   6765\u001b[0m     by \u001b[38;5;241m=\u001b[39m by[\u001b[38;5;241m0\u001b[39m]\n\u001b[1;32m-> 6766\u001b[0m     k \u001b[38;5;241m=\u001b[39m \u001b[38;5;28;43mself\u001b[39;49m\u001b[38;5;241;43m.\u001b[39;49m\u001b[43m_get_label_or_level_values\u001b[49m\u001b[43m(\u001b[49m\u001b[43mby\u001b[49m\u001b[43m,\u001b[49m\u001b[43m \u001b[49m\u001b[43maxis\u001b[49m\u001b[38;5;241;43m=\u001b[39;49m\u001b[43maxis\u001b[49m\u001b[43m)\u001b[49m\n\u001b[0;32m   6768\u001b[0m     \u001b[38;5;66;03m# need to rewrap column in Series to apply key function\u001b[39;00m\n\u001b[0;32m   6769\u001b[0m     \u001b[38;5;28;01mif\u001b[39;00m key \u001b[38;5;129;01mis\u001b[39;00m \u001b[38;5;129;01mnot\u001b[39;00m \u001b[38;5;28;01mNone\u001b[39;00m:\n\u001b[0;32m   6770\u001b[0m         \u001b[38;5;66;03m# error: Incompatible types in assignment (expression has type\u001b[39;00m\n\u001b[0;32m   6771\u001b[0m         \u001b[38;5;66;03m# \"Series\", variable has type \"ndarray\")\u001b[39;00m\n",
      "File \u001b[1;32mC:\\Python311\\Lib\\site-packages\\pandas\\core\\generic.py:1778\u001b[0m, in \u001b[0;36mNDFrame._get_label_or_level_values\u001b[1;34m(self, key, axis)\u001b[0m\n\u001b[0;32m   1776\u001b[0m     values \u001b[38;5;241m=\u001b[39m \u001b[38;5;28mself\u001b[39m\u001b[38;5;241m.\u001b[39maxes[axis]\u001b[38;5;241m.\u001b[39mget_level_values(key)\u001b[38;5;241m.\u001b[39m_values\n\u001b[0;32m   1777\u001b[0m \u001b[38;5;28;01melse\u001b[39;00m:\n\u001b[1;32m-> 1778\u001b[0m     \u001b[38;5;28;01mraise\u001b[39;00m \u001b[38;5;167;01mKeyError\u001b[39;00m(key)\n\u001b[0;32m   1780\u001b[0m \u001b[38;5;66;03m# Check for duplicates\u001b[39;00m\n\u001b[0;32m   1781\u001b[0m \u001b[38;5;28;01mif\u001b[39;00m values\u001b[38;5;241m.\u001b[39mndim \u001b[38;5;241m>\u001b[39m \u001b[38;5;241m1\u001b[39m:\n",
      "\u001b[1;31mKeyError\u001b[0m: 'prompt_similarity'"
     ]
    }
   ],
   "source": [
    "df.sort_values(\"prompt_similarity\", ascending=False).head()"
   ]
  },
  {
   "cell_type": "code",
   "execution_count": null,
   "id": "49313724",
   "metadata": {
    "scrolled": true
   },
   "outputs": [],
   "source": [
    "context = df.nlargest(1, 'prompt_similarity').iloc[0]['summary']"
   ]
  },
  {
   "cell_type": "code",
   "execution_count": null,
   "id": "042d416b",
   "metadata": {},
   "outputs": [],
   "source": [
    "prompt = \"\"\"Only answer the question below if you have 100% certainty of the facts.\n",
    "Context: {context}\n",
    "Q: What does the start-up company Pentera do and who invested in it?\n",
    "A: \"\"\""
   ]
  },
  {
   "cell_type": "code",
   "execution_count": null,
   "id": "a77666d0",
   "metadata": {},
   "outputs": [],
   "source": [
    "print(prompt)"
   ]
  },
  {
   "cell_type": "code",
   "execution_count": null,
   "id": "adc25abf",
   "metadata": {},
   "outputs": [],
   "source": [
    "response = openai.Completion.create(\n",
    "    model = 'text-davinci-003',\n",
    "    temperature = 0,\n",
    "    max_tokens = 512,\n",
    "    prompt = prompt\n",
    ")"
   ]
  },
  {
   "cell_type": "code",
   "execution_count": null,
   "id": "6a6b9807",
   "metadata": {},
   "outputs": [],
   "source": [
    "print(response['choices'][0]['text'])"
   ]
  },
  {
   "cell_type": "code",
   "execution_count": null,
   "id": "b2fe19dc",
   "metadata": {},
   "outputs": [],
   "source": [
    "def embed_prompt_lookup():\n",
    "    question = input(\"What question do you have about a Unicorn start-up?\")\n",
    "    \n",
    "    prompt_embedding = get_embedding(question)\n",
    "    \n",
    "    df['prompt_similarity'] = df['embedding'].apply(lambda vector: vector_similarity(vector,prompt_embedding))\n",
    "    \n",
    "    context = df.nlargest(1, 'prompt_similarity').iloc[0]['summary']\n",
    "    \n",
    "    prompt = \"\"\"Only answer the question below if you have 100% certainty of the facts.\n",
    "            Context: {context}\n",
    "            Q: {question}?\n",
    "            A: \"\"\"\n",
    "    \n",
    "    response = openai.Completion.create(\n",
    "        model = 'text-davinci-003',\n",
    "        temperature = 0,\n",
    "        max_tokens = 512,\n",
    "        prompt = prompt\n",
    "    )\n",
    "    \n",
    "    print(response['choices'][0]['text'])"
   ]
  },
  {
   "cell_type": "code",
   "execution_count": null,
   "id": "79ac22b0",
   "metadata": {},
   "outputs": [],
   "source": [
    "embed_prompt_lookup()"
   ]
  },
  {
   "cell_type": "code",
   "execution_count": null,
   "id": "fc6601fd",
   "metadata": {},
   "outputs": [],
   "source": []
  }
 ],
 "metadata": {
  "kernelspec": {
   "display_name": "Python 3 (ipykernel)",
   "language": "python",
   "name": "python3"
  },
  "language_info": {
   "codemirror_mode": {
    "name": "ipython",
    "version": 3
   },
   "file_extension": ".py",
   "mimetype": "text/x-python",
   "name": "python",
   "nbconvert_exporter": "python",
   "pygments_lexer": "ipython3",
   "version": "3.11.2"
  }
 },
 "nbformat": 4,
 "nbformat_minor": 5
}
